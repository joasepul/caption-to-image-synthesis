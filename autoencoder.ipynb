{
 "cells": [
  {
   "cell_type": "code",
   "execution_count": 25,
   "metadata": {},
   "outputs": [],
   "source": [
    "import cv2\n",
    "import glob\n",
    "import numpy as np"
   ]
  },
  {
   "cell_type": "code",
   "execution_count": 51,
   "metadata": {},
   "outputs": [
    {
     "name": "stderr",
     "output_type": "stream",
     "text": [
      "Using TensorFlow backend.\n"
     ]
    }
   ],
   "source": [
    "from keras.layers import Input, merge, Concatenate, Dense, Dropout, Conv2D, Add, Dot, Lambda, Conv2DTranspose, Dot, Activation, Reshape, BatchNormalization, UpSampling2D, AveragePooling2D, GlobalAveragePooling2D, Multiply, LeakyReLU, Flatten, MaxPool2D \n",
    "from keras.layers.convolutional import Convolution2D, UpSampling2D\n",
    "from keras.models import Model\n",
    "import keras.backend as K\n",
    "import tensorflow as tf"
   ]
  },
  {
   "cell_type": "code",
   "execution_count": 44,
   "metadata": {},
   "outputs": [],
   "source": [
    "img_paths = glob.glob('./train2017/00000000[012345][0123456789][0123456789][0123456789].jpg')"
   ]
  },
  {
   "cell_type": "code",
   "execution_count": 45,
   "metadata": {},
   "outputs": [
    {
     "data": {
      "text/plain": [
       "1168"
      ]
     },
     "execution_count": 45,
     "metadata": {},
     "output_type": "execute_result"
    }
   ],
   "source": [
    "len(img_paths)"
   ]
  },
  {
   "cell_type": "code",
   "execution_count": 50,
   "metadata": {},
   "outputs": [],
   "source": [
    "for img_path in img_paths:\n",
    "    img = cv2.imread(img_path)\n",
    "    x,y,_ = img.shape\n",
    "    margin = (y-x)//2\n",
    "    #print(img_path.split('/')[-1])\n",
    "    img = img[:,margin:y-margin]\n",
    "    img = cv2.resize(img, (128,128))\n",
    "    cv2.imwrite('./cleaned-data/' + img_path.split('/')[-1], img)"
   ]
  },
  {
   "cell_type": "code",
   "execution_count": 85,
   "metadata": {},
   "outputs": [],
   "source": [
    "def build_encoder(input_shape, name='encoder'):\n",
    "    input_layer = Input(shape=input_shape)\n",
    "    \n",
    "    # first encoding block\n",
    "    encode1 = Conv2D(8, 3, padding='same', activation='relu')(input_layer)\n",
    "    encode1 = Conv2D(8, 3, padding='same', activation='relu')(encode1)\n",
    "    encode1 = MaxPool2D()(encode1)\n",
    "    \n",
    "    # Second encoding block\n",
    "    encode2 = Conv2D(16, 3, padding='same', activation='relu')(encode1)\n",
    "    encode2 = Conv2D(16, 3, padding='same', activation='relu')(encode2)\n",
    "    encode2 = MaxPool2D()(encode2)\n",
    "    \n",
    "    # Third encoding block\n",
    "    encode3 = Conv2D(32, 3, padding='same', activation='relu')(encode2)\n",
    "    encode3 = Conv2D(32, 3, padding='same', activation='relu')(encode3)\n",
    "    encode3 = MaxPool2D()(encode3)\n",
    "    \n",
    "    output_layer = encode3\n",
    "    return Model(input_layer, output_layer, name=name)"
   ]
  },
  {
   "cell_type": "code",
   "execution_count": 86,
   "metadata": {},
   "outputs": [
    {
     "name": "stdout",
     "output_type": "stream",
     "text": [
      "_________________________________________________________________\n",
      "Layer (type)                 Output Shape              Param #   \n",
      "=================================================================\n",
      "input_15 (InputLayer)        (None, 128, 128, 3)       0         \n",
      "_________________________________________________________________\n",
      "conv2d_73 (Conv2D)           (None, 128, 128, 8)       224       \n",
      "_________________________________________________________________\n",
      "conv2d_74 (Conv2D)           (None, 128, 128, 8)       584       \n",
      "_________________________________________________________________\n",
      "max_pooling2d_21 (MaxPooling (None, 64, 64, 8)         0         \n",
      "_________________________________________________________________\n",
      "conv2d_75 (Conv2D)           (None, 64, 64, 16)        1168      \n",
      "_________________________________________________________________\n",
      "conv2d_76 (Conv2D)           (None, 64, 64, 16)        2320      \n",
      "_________________________________________________________________\n",
      "max_pooling2d_22 (MaxPooling (None, 32, 32, 16)        0         \n",
      "_________________________________________________________________\n",
      "conv2d_77 (Conv2D)           (None, 32, 32, 32)        4640      \n",
      "_________________________________________________________________\n",
      "conv2d_78 (Conv2D)           (None, 32, 32, 32)        9248      \n",
      "_________________________________________________________________\n",
      "max_pooling2d_23 (MaxPooling (None, 16, 16, 32)        0         \n",
      "=================================================================\n",
      "Total params: 18,184\n",
      "Trainable params: 18,184\n",
      "Non-trainable params: 0\n",
      "_________________________________________________________________\n"
     ]
    }
   ],
   "source": [
    "encoder = build_encoder((128,128,3))\n",
    "encoder.summary()"
   ]
  },
  {
   "cell_type": "code",
   "execution_count": null,
   "metadata": {},
   "outputs": [],
   "source": []
  },
  {
   "cell_type": "code",
   "execution_count": 87,
   "metadata": {},
   "outputs": [],
   "source": [
    "def build_decoder(input_shape, name='decoder'):\n",
    "    input_layer = Input(shape=input_shape)\n",
    "    \n",
    "    # first decoding block\n",
    "    decode1 = UpSampling2D()(input_layer)\n",
    "    decode1 = Conv2D(16, 3, padding='same', activation='relu')(decode1)\n",
    "    decode1 = Conv2D(16, 3, padding='same', activation='relu')(decode1)\n",
    "    \n",
    "    \n",
    "    # Second decoding block\n",
    "    decode2 = UpSampling2D()(decode1)\n",
    "    decode2 = Conv2D(8, 3, padding='same', activation='relu')(decode2)\n",
    "    decode2 = Conv2D(8, 3, padding='same', activation='relu')(decode2)\n",
    "    \n",
    "    \n",
    "    # Third decoding block\n",
    "    decode3 = UpSampling2D()(decode2)\n",
    "    decode3 = Conv2D(4, 3, padding='same', activation='relu')(decode3)\n",
    "    decode3 = Conv2D(3, 3, padding='same', activation='relu')(decode3)\n",
    "    \n",
    "    \n",
    "    output_layer = decode3\n",
    "    return Model(input_layer, output_layer, name=name)"
   ]
  },
  {
   "cell_type": "code",
   "execution_count": 88,
   "metadata": {},
   "outputs": [
    {
     "name": "stdout",
     "output_type": "stream",
     "text": [
      "_________________________________________________________________\n",
      "Layer (type)                 Output Shape              Param #   \n",
      "=================================================================\n",
      "input_16 (InputLayer)        (None, 16, 16, 32)        0         \n",
      "_________________________________________________________________\n",
      "up_sampling2d_19 (UpSampling (None, 32, 32, 32)        0         \n",
      "_________________________________________________________________\n",
      "conv2d_79 (Conv2D)           (None, 32, 32, 16)        4624      \n",
      "_________________________________________________________________\n",
      "conv2d_80 (Conv2D)           (None, 32, 32, 16)        2320      \n",
      "_________________________________________________________________\n",
      "up_sampling2d_20 (UpSampling (None, 64, 64, 16)        0         \n",
      "_________________________________________________________________\n",
      "conv2d_81 (Conv2D)           (None, 64, 64, 8)         1160      \n",
      "_________________________________________________________________\n",
      "conv2d_82 (Conv2D)           (None, 64, 64, 8)         584       \n",
      "_________________________________________________________________\n",
      "up_sampling2d_21 (UpSampling (None, 128, 128, 8)       0         \n",
      "_________________________________________________________________\n",
      "conv2d_83 (Conv2D)           (None, 128, 128, 4)       292       \n",
      "_________________________________________________________________\n",
      "conv2d_84 (Conv2D)           (None, 128, 128, 3)       111       \n",
      "=================================================================\n",
      "Total params: 9,091\n",
      "Trainable params: 9,091\n",
      "Non-trainable params: 0\n",
      "_________________________________________________________________\n"
     ]
    }
   ],
   "source": [
    "decoder = build_decoder((16,16,32))\n",
    "decoder.summary()"
   ]
  },
  {
   "cell_type": "code",
   "execution_count": 94,
   "metadata": {},
   "outputs": [],
   "source": [
    "def build_autoencoder():\n",
    "    input_img = Input(shape=(128,128,3))\n",
    "    latent_representation = encoder(input_img)\n",
    "    decoded_img = decoder(latent_representation)\n",
    "    autoencoder = Model(input_img, decoded_img, name=\"autoencoder\")\n",
    "    return autoencoder"
   ]
  },
  {
   "cell_type": "code",
   "execution_count": 95,
   "metadata": {},
   "outputs": [],
   "source": [
    "autoencoder = build_autoencoder()"
   ]
  },
  {
   "cell_type": "code",
   "execution_count": 96,
   "metadata": {},
   "outputs": [
    {
     "name": "stdout",
     "output_type": "stream",
     "text": [
      "_________________________________________________________________\n",
      "Layer (type)                 Output Shape              Param #   \n",
      "=================================================================\n",
      "input_19 (InputLayer)        (None, 128, 128, 3)       0         \n",
      "_________________________________________________________________\n",
      "encoder (Model)              (None, 16, 16, 32)        18184     \n",
      "_________________________________________________________________\n",
      "decoder (Model)              (None, 128, 128, 3)       9091      \n",
      "=================================================================\n",
      "Total params: 27,275\n",
      "Trainable params: 27,275\n",
      "Non-trainable params: 0\n",
      "_________________________________________________________________\n"
     ]
    }
   ],
   "source": [
    "autoencoder.summary()"
   ]
  },
  {
   "cell_type": "code",
   "execution_count": 107,
   "metadata": {},
   "outputs": [],
   "source": [
    "autoencoder.compile(optimizer='adam', loss='mse', metrics=['accuracy'])"
   ]
  },
  {
   "cell_type": "code",
   "execution_count": 103,
   "metadata": {},
   "outputs": [],
   "source": [
    "def data_loader(file_path):\n",
    "    img_paths = glob.glob(file_path + '/*')\n",
    "    data = []\n",
    "    for img_path in img_paths:\n",
    "        \n",
    "        data.append(cv2.imread(img_path) / 255.0)\n",
    "    return np.array(data)"
   ]
  },
  {
   "cell_type": "code",
   "execution_count": 104,
   "metadata": {},
   "outputs": [],
   "source": [
    "X = data_loader('./cleaned-data/')"
   ]
  },
  {
   "cell_type": "code",
   "execution_count": 105,
   "metadata": {},
   "outputs": [
    {
     "data": {
      "text/plain": [
       "(1168, 128, 128, 3)"
      ]
     },
     "execution_count": 105,
     "metadata": {},
     "output_type": "execute_result"
    }
   ],
   "source": [
    "np.shape(X)"
   ]
  },
  {
   "cell_type": "code",
   "execution_count": 109,
   "metadata": {},
   "outputs": [
    {
     "name": "stdout",
     "output_type": "stream",
     "text": [
      "Epoch 1/20\n",
      "1168/1168 [==============================] - 28s 24ms/step - loss: 0.0395 - acc: 0.3741\n",
      "Epoch 2/20\n",
      "1168/1168 [==============================] - 28s 24ms/step - loss: 0.0286 - acc: 0.3222\n",
      "Epoch 3/20\n",
      "1168/1168 [==============================] - 28s 24ms/step - loss: 0.0244 - acc: 0.3557\n",
      "Epoch 4/20\n",
      "1168/1168 [==============================] - 28s 24ms/step - loss: 0.0225 - acc: 0.3667\n",
      "Epoch 5/20\n",
      "1168/1168 [==============================] - 27s 23ms/step - loss: 0.0211 - acc: 0.3717\n",
      "Epoch 6/20\n",
      "1168/1168 [==============================] - 27s 23ms/step - loss: 0.0202 - acc: 0.3788\n",
      "Epoch 7/20\n",
      "1168/1168 [==============================] - 27s 23ms/step - loss: 0.0193 - acc: 0.3812\n",
      "Epoch 8/20\n",
      "1168/1168 [==============================] - 27s 23ms/step - loss: 0.0185 - acc: 0.3973\n",
      "Epoch 9/20\n",
      "1168/1168 [==============================] - 27s 23ms/step - loss: 0.0179 - acc: 0.4076\n",
      "Epoch 10/20\n",
      "1168/1168 [==============================] - 28s 24ms/step - loss: 0.0175 - acc: 0.4173\n",
      "Epoch 11/20\n",
      "1168/1168 [==============================] - 28s 24ms/step - loss: 0.0172 - acc: 0.4225\n",
      "Epoch 12/20\n",
      "1168/1168 [==============================] - 27s 23ms/step - loss: 0.0170 - acc: 0.4250\n",
      "Epoch 13/20\n",
      "1168/1168 [==============================] - 27s 23ms/step - loss: 0.0169 - acc: 0.4279\n",
      "Epoch 14/20\n",
      "1168/1168 [==============================] - 27s 23ms/step - loss: 0.0166 - acc: 0.4448\n",
      "Epoch 15/20\n",
      "1168/1168 [==============================] - 28s 24ms/step - loss: 0.0164 - acc: 0.4583\n",
      "Epoch 16/20\n",
      "1168/1168 [==============================] - 28s 24ms/step - loss: 0.0162 - acc: 0.4773\n",
      "Epoch 17/20\n",
      "1168/1168 [==============================] - 28s 24ms/step - loss: 0.0159 - acc: 0.4830\n",
      "Epoch 18/20\n",
      "1168/1168 [==============================] - 28s 24ms/step - loss: 0.0158 - acc: 0.4988\n",
      "Epoch 19/20\n",
      "1168/1168 [==============================] - 27s 24ms/step - loss: 0.0157 - acc: 0.4924\n",
      "Epoch 20/20\n",
      "1168/1168 [==============================] - 28s 24ms/step - loss: 0.0154 - acc: 0.5168\n"
     ]
    }
   ],
   "source": [
    "history = autoencoder.fit(X,X, epochs=20, batch_size=64, shuffle=True)"
   ]
  },
  {
   "cell_type": "code",
   "execution_count": 115,
   "metadata": {},
   "outputs": [
    {
     "data": {
      "text/plain": [
       "[<matplotlib.lines.Line2D at 0x1a57914ac8>]"
      ]
     },
     "execution_count": 115,
     "metadata": {},
     "output_type": "execute_result"
    },
    {
     "data": {
      "image/png": "[encoded data removed]",
      "text/plain": [
       "<Figure size 432x288 with 1 Axes>"
      ]
     },
     "metadata": {},
     "output_type": "display_data"
    }
   ],
   "source": [
    "plt.plot(history.history['acc'])"
   ]
  },
  {
   "cell_type": "code",
   "execution_count": 128,
   "metadata": {},
   "outputs": [
    {
     "ename": "error",
     "evalue": "OpenCV(3.4.2) /Users/travis/build/skvark/opencv-python/opencv/modules/imgproc/src/color.hpp:253: error: (-215:Assertion failed) VScn::contains(scn) && VDcn::contains(dcn) && VDepth::contains(depth) in function 'CvtHelper'\n",
     "output_type": "error",
     "traceback": [
      "\u001b[0;31m---------------------------------------------------------------------------\u001b[0m",
      "\u001b[0;31merror\u001b[0m                                     Traceback (most recent call last)",
      "\u001b[0;32m<ipython-input-128-488659926a6d>\u001b[0m in \u001b[0;36m<module>\u001b[0;34m()\u001b[0m\n\u001b[1;32m      4\u001b[0m \u001b[0;34m\u001b[0m\u001b[0m\n\u001b[1;32m      5\u001b[0m \u001b[0mimg_index\u001b[0m \u001b[0;34m=\u001b[0m \u001b[0;36m69\u001b[0m\u001b[0;34m\u001b[0m\u001b[0m\n\u001b[0;32m----> 6\u001b[0;31m \u001b[0mrgb_imshow\u001b[0m\u001b[0;34m(\u001b[0m\u001b[0mX\u001b[0m\u001b[0;34m[\u001b[0m\u001b[0mimg_index\u001b[0m\u001b[0;34m]\u001b[0m\u001b[0;34m)\u001b[0m\u001b[0;34m\u001b[0m\u001b[0m\n\u001b[0m\u001b[1;32m      7\u001b[0m \u001b[0;34m\u001b[0m\u001b[0m\n\u001b[1;32m      8\u001b[0m \u001b[0mdecoded_img\u001b[0m \u001b[0;34m=\u001b[0m \u001b[0mautoencoder\u001b[0m\u001b[0;34m.\u001b[0m\u001b[0mpredict\u001b[0m\u001b[0;34m(\u001b[0m\u001b[0mnp\u001b[0m\u001b[0;34m.\u001b[0m\u001b[0marray\u001b[0m\u001b[0;34m(\u001b[0m\u001b[0;34m[\u001b[0m\u001b[0mX\u001b[0m\u001b[0;34m[\u001b[0m\u001b[0mimg_index\u001b[0m\u001b[0;34m]\u001b[0m\u001b[0;34m]\u001b[0m\u001b[0;34m)\u001b[0m\u001b[0;34m)\u001b[0m\u001b[0;34m[\u001b[0m\u001b[0;36m0\u001b[0m\u001b[0;34m]\u001b[0m\u001b[0;34m\u001b[0m\u001b[0m\n",
      "\u001b[0;32m<ipython-input-128-488659926a6d>\u001b[0m in \u001b[0;36mrgb_imshow\u001b[0;34m(img)\u001b[0m\n\u001b[1;32m      1\u001b[0m \u001b[0;32mdef\u001b[0m \u001b[0mrgb_imshow\u001b[0m\u001b[0;34m(\u001b[0m\u001b[0mimg\u001b[0m\u001b[0;34m)\u001b[0m\u001b[0;34m:\u001b[0m\u001b[0;34m\u001b[0m\u001b[0m\n\u001b[0;32m----> 2\u001b[0;31m     \u001b[0mplt\u001b[0m\u001b[0;34m.\u001b[0m\u001b[0mimshow\u001b[0m\u001b[0;34m(\u001b[0m\u001b[0mcv2\u001b[0m\u001b[0;34m.\u001b[0m\u001b[0mcvtColor\u001b[0m\u001b[0;34m(\u001b[0m\u001b[0mimg\u001b[0m\u001b[0;34m*\u001b[0m\u001b[0;36m255\u001b[0m\u001b[0;34m,\u001b[0m \u001b[0mcv2\u001b[0m\u001b[0;34m.\u001b[0m\u001b[0mCOLOR_BGR2RGB\u001b[0m\u001b[0;34m)\u001b[0m\u001b[0;34m)\u001b[0m\u001b[0;34m\u001b[0m\u001b[0m\n\u001b[0m\u001b[1;32m      3\u001b[0m     \u001b[0mplt\u001b[0m\u001b[0;34m.\u001b[0m\u001b[0mshow\u001b[0m\u001b[0;34m(\u001b[0m\u001b[0;34m)\u001b[0m\u001b[0;34m\u001b[0m\u001b[0m\n\u001b[1;32m      4\u001b[0m \u001b[0;34m\u001b[0m\u001b[0m\n\u001b[1;32m      5\u001b[0m \u001b[0mimg_index\u001b[0m \u001b[0;34m=\u001b[0m \u001b[0;36m69\u001b[0m\u001b[0;34m\u001b[0m\u001b[0m\n",
      "\u001b[0;31merror\u001b[0m: OpenCV(3.4.2) /Users/travis/build/skvark/opencv-python/opencv/modules/imgproc/src/color.hpp:253: error: (-215:Assertion failed) VScn::contains(scn) && VDcn::contains(dcn) && VDepth::contains(depth) in function 'CvtHelper'\n"
     ]
    }
   ],
   "source": [
    "def rgb_imshow(img):\n",
    "    plt.imshow(cv2.cvtColor(img*255, cv2.COLOR_BGR2RGB))\n",
    "    plt.show()\n",
    "\n",
    "img_index = 69\n",
    "rgb_imshow(X[img_index])\n",
    "\n",
    "decoded_img = autoencoder.predict(np.array([X[img_index]]))[0]\n",
    "\n",
    "rgb_imshow(decoded_img)"
   ]
  },
  {
   "cell_type": "code",
   "execution_count": 122,
   "metadata": {},
   "outputs": [
    {
     "data": {
      "text/plain": [
       "array([[[[0.13509443, 0.13617668, 0.20929775],\n",
       "         [0.16430683, 0.1341766 , 0.19674475],\n",
       "         [0.19404629, 0.1435808 , 0.20933384],\n",
       "         ...,\n",
       "         [0.31039345, 0.24498433, 0.2663633 ],\n",
       "         [0.28300822, 0.15223086, 0.3472812 ],\n",
       "         [0.23108506, 0.25252235, 0.27015147]],\n",
       "\n",
       "        [[0.20823216, 0.18813458, 0.23994002],\n",
       "         [0.234236  , 0.18196592, 0.24736828],\n",
       "         [0.24923876, 0.21328235, 0.24935043],\n",
       "         ...,\n",
       "         [0.5098297 , 0.38177046, 0.3993932 ],\n",
       "         [0.38857007, 0.3759736 , 0.49345633],\n",
       "         [0.21130645, 0.24634132, 0.38560477]],\n",
       "\n",
       "        [[0.24060237, 0.22312415, 0.2652587 ],\n",
       "         [0.22180775, 0.1827822 , 0.2622696 ],\n",
       "         [0.22587103, 0.21989638, 0.2978791 ],\n",
       "         ...,\n",
       "         [0.35357445, 0.394129  , 0.389828  ],\n",
       "         [0.28256956, 0.39301118, 0.43321607],\n",
       "         [0.3102705 , 0.3222784 , 0.36628094]],\n",
       "\n",
       "        ...,\n",
       "\n",
       "        [[0.09880193, 0.10441083, 0.17194518],\n",
       "         [0.11268328, 0.116405  , 0.09489816],\n",
       "         [0.14581916, 0.14269418, 0.07548479],\n",
       "         ...,\n",
       "         [0.34707978, 0.4398708 , 0.49075967],\n",
       "         [0.42531046, 0.48746088, 0.4502429 ],\n",
       "         [0.4163272 , 0.46870384, 0.43353686]],\n",
       "\n",
       "        [[0.05632075, 0.06211337, 0.1535593 ],\n",
       "         [0.07275088, 0.05807645, 0.06793959],\n",
       "         [0.07901879, 0.07561909, 0.0617594 ],\n",
       "         ...,\n",
       "         [0.39152712, 0.33509448, 0.4222499 ],\n",
       "         [0.47881892, 0.49743387, 0.2708224 ],\n",
       "         [0.3438599 , 0.45236033, 0.28400442]],\n",
       "\n",
       "        [[0.06101581, 0.09363314, 0.10352246],\n",
       "         [0.05978227, 0.0530601 , 0.09141818],\n",
       "         [0.05887751, 0.05824176, 0.10961521],\n",
       "         ...,\n",
       "         [0.35357127, 0.37542817, 0.47563758],\n",
       "         [0.45500225, 0.56618243, 0.3114003 ],\n",
       "         [0.27694452, 0.27118886, 0.32470202]]]], dtype=float32)"
      ]
     },
     "execution_count": 122,
     "metadata": {},
     "output_type": "execute_result"
    }
   ],
   "source": [
    "decoded_img"
   ]
  },
  {
   "cell_type": "code",
   "execution_count": null,
   "metadata": {},
   "outputs": [],
   "source": []
  }
 ],
 "metadata": {
  "kernelspec": {
   "display_name": "Python 3",
   "language": "python",
   "name": "python3"
  },
  "language_info": {
   "codemirror_mode": {
    "name": "ipython",
    "version": 3
   },
   "file_extension": ".py",
   "mimetype": "text/x-python",
   "name": "python",
   "nbconvert_exporter": "python",
   "pygments_lexer": "ipython3",
   "version": "3.6.5"
  }
 },
 "nbformat": 4,
 "nbformat_minor": 2
}
