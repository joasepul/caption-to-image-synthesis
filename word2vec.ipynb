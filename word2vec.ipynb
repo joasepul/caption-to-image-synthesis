{
 "cells": [
  {
   "cell_type": "code",
   "execution_count": 1,
   "metadata": {},
   "outputs": [],
   "source": [
    "import pandas as pd\n",
    "import numpy as np\n",
    "import nltk\n"
   ]
  },
  {
   "cell_type": "code",
   "execution_count": 2,
   "metadata": {},
   "outputs": [],
   "source": [
    "# annot_df = pd.read_csv('./coco-captions-2017-clean.csv', usecols=[1,2])\n",
    "annot_df = pd.read_csv('./coco-captions-with-categories.csv', usecols=[0,1])"
   ]
  },
  {
   "cell_type": "code",
   "execution_count": 3,
   "metadata": {},
   "outputs": [],
   "source": [
    "from nltk.tokenize import sent_tokenize, word_tokenize \n",
    "import warnings \n",
    "  \n",
    "warnings.filterwarnings(action = 'ignore') \n",
    "  \n",
    "import gensim \n",
    "from gensim.models import Word2Vec \n",
    "  "
   ]
  },
  {
   "cell_type": "code",
   "execution_count": 4,
   "metadata": {
    "scrolled": true
   },
   "outputs": [],
   "source": [
    "annot_list = annot_df.values\n",
    "data = [] \n",
    "data_set = set()\n",
    "\n",
    "# iterate through each caption \n",
    "for row in annot_list: \n",
    "    \n",
    "    captions = row[1].split('|')[:5] #change this to :5 for all captions\n",
    "    \n",
    "    for caption in captions:\n",
    "        temp = [] \n",
    "        # tokenize the captions into words \n",
    "        for j in word_tokenize(caption): \n",
    "            data_set.add(j.lower())\n",
    "            temp.append(j.lower()) \n",
    "  \n",
    "        data.append(temp) \n",
    "  \n"
   ]
  },
  {
   "cell_type": "code",
   "execution_count": 17,
   "metadata": {},
   "outputs": [],
   "source": [
    "w2v_model = Word2Vec(data, size=256, workers=8, max_vocab_size=None, min_count = 0)"
   ]
  },
  {
   "cell_type": "code",
   "execution_count": 7,
   "metadata": {},
   "outputs": [],
   "source": [
    "# w2v_model.save('./text_encoding.bin')\n",
    "w2v_model.save('./text_encoding_full.bin')"
   ]
  },
  {
   "cell_type": "code",
   "execution_count": null,
   "metadata": {},
   "outputs": [],
   "source": []
  }
 ],
 "metadata": {
  "kernelspec": {
   "display_name": "Python 3",
   "language": "python",
   "name": "python3"
  },
  "language_info": {
   "codemirror_mode": {
    "name": "ipython",
    "version": 3
   },
   "file_extension": ".py",
   "mimetype": "text/x-python",
   "name": "python",
   "nbconvert_exporter": "python",
   "pygments_lexer": "ipython3",
   "version": "3.7.3"
  }
 },
 "nbformat": 4,
 "nbformat_minor": 2
}
