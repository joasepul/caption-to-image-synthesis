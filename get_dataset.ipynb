{
 "cells": [
  {
   "cell_type": "code",
   "execution_count": 1,
   "metadata": {},
   "outputs": [],
   "source": [
    "import pandas as pd"
   ]
  },
  {
   "cell_type": "code",
   "execution_count": 2,
   "metadata": {},
   "outputs": [],
   "source": [
    "caption_data = pd.read_csv('./Train_GCC-training.tsv', delimiter='\\t', encoding='utf-8')"
   ]
  },
  {
   "cell_type": "code",
   "execution_count": null,
   "metadata": {},
   "outputs": [],
   "source": []
  },
  {
   "cell_type": "code",
   "execution_count": 81,
   "metadata": {},
   "outputs": [
    {
     "name": "stdout",
     "output_type": "stream",
     "text": [
      "hipster white girl sitting on a gate outdoors https://ak3.picdn.net/shutterstock/videos/12117143/thumb/2.jpg?i10c=img.resize(height:160)\n",
      "caption this photo of kids who saw a white girl for the first time https://4.bp.blogspot.com/-Ke2MHWVd6LI/V0nBFezvRGI/AAAAAAAAbq4/4FGqaK9hzgI5IP6t1TcyHT6vxsbp-NbbQCK4B/s1600/kti3ayi2.jpg\n",
      "remember when ... person posed in photos like a white girl ? http://78.media.tumblr.com/52d205246287530b39e163d958b54395/tumblr_n2i0h9jHrm1tude8po3_500.jpg\n",
      "remember when ... person posed in photos like a white girl ? http://78.media.tumblr.com/80f9e9f62646db658b13a6e8b5dbf76c/tumblr_n2i0h9jHrm1tude8po1_500.jpg\n",
      "teenage young black , brown & white girls play drums http://l7.alamy.com/zooms/79a896ddc5ad4c0a8bc8dab5cf7e532a/notting-hill-carnival-parade-teenage-young-black-brown-white-girls-b3jbfc.jpg\n",
      "portrait of a white girl with freckles on her face https://media.istockphoto.com/photos/portrait-of-a-white-girl-with-freckles-on-her-face-picture-id600082816?k=6&m=600082816&s=612x612&w=0&h=O8jNGHR-oAsCxa6caRd_lVMTUToDIExNaleR2Pldwf8=\n",
      "white girls christening dress hanged on the wall , with beautiful big ribbon http://c8.alamy.com/comp/JPGA8P/white-girls-christening-dress-hanged-on-the-wall-with-beautiful-big-JPGA8P.jpg\n",
      "caucasian white girl talking on the phone in bed https://ak9.picdn.net/shutterstock/videos/2483009/thumb/1.jpg\n",
      "white girls christening dress hanged on the wall , with beautiful big ribbon http://c8.alamy.com/comp/JPGA8N/white-girls-christening-dress-hanged-on-the-wall-with-beautiful-big-JPGA8N.jpg\n",
      "smart dreads on a white girl http://colorhairdo.website/wp-content/uploads/2017/03/smart-dreads-on-a-white-girl-2017.jpg\n",
      "do guys think it 's more attractive if a white girl speaks human language ? http://cdn-webimages.wimages.net/050aec6842f991332625c2dfd60aa842fab325-wm.jpg?v=3\n",
      "young white girl with long thick hair dancing in the autumn on the nature https://ak2.picdn.net/shutterstock/videos/20540302/thumb/1.jpg\n",
      "the white girl dread hairstyles with regard to hairdo for a performance in school http://trovehairstyles.com/wp-content/uploads/2016/11/the-awesome-white-girl-dread-hairstyles-with-regard-to-hairdo-for-a-performance-in-school.jpg\n",
      "millennial white girl texts her friends in the city http://www.thephiladelphiacollection.org/wp-content/uploads/2017/10/girl-winter-knitting.jpg\n",
      "portrait of a young beautiful caucasian white girl wearing a plaid shirt and jeans on grey background https://image.shutterstock.com/z/stock-photo-portrait-of-a-young-beautiful-caucasian-white-girl-wearing-a-plaid-shirt-and-jeans-on-grey-551471512.jpg\n",
      "my friends when i eat food : the white girl is eating like us ! http://cdn-webimages.wimages.net/0516649a773566597670e9b0b9eff4c49f31b7-wm.jpg?v=3\n",
      "the white girl dread hairstyles with regard to hairdo for anyone who is bored with the old style http://trovehairstyles.com/wp-content/uploads/2016/11/the-awesome-white-girl-dread-hairstyles-with-regard-to-hairdo-for-anyone-who-is-bored-with-the-old-style.jpg\n",
      "black boy and white girl friends playing on the beach in the sand with a bucket and spade https://thumb1.shutterstock.com/display_pic_with_logo/59156/410637340/stock-photo-black-boy-and-white-girl-friends-playing-on-the-beach-in-the-sand-with-a-bucket-and-spade-410637340.jpg\n",
      "portrait of a white girl with orange hair https://media.istockphoto.com/photos/portrait-of-a-white-girl-with-orange-hair-picture-id586386612?k=6&m=586386612&s=612x612&w=0&h=hT6v_ghe4m3KlPPqHIoCYwWXJhyWlx6ZABfrPXpg_FE=\n",
      "white girls christening dress hanged on the wall , with beautiful big ribbon http://c8.alamy.com/comp/JPGA7F/white-girls-christening-dress-hanged-on-the-wall-with-beautiful-big-JPGA7F.jpg\n",
      "i 'm thinking of having an anchor added to the other side to match up with my current tattoo ... i will become a stereotypical white girl . https://static2.fjcdn.com/comments/Im+thinking+of+having+an+anchor+added+to+the+other+_e623d9641df5e1a48cb524c337ff97f1.jpg\n",
      "millennial white girl texts her friends in the city . https://ak1.picdn.net/shutterstock/videos/21447871/thumb/1.jpg\n",
      "black boy and white girl friends playing on the beach in the sand with a bucket and spade https://thumb1.shutterstock.com/display_pic_with_logo/59156/422987734/stock-photo-black-boy-and-white-girl-friends-playing-on-the-beach-in-the-sand-with-a-bucket-and-spade-422987734.jpg\n",
      "some white girls should stop think that they 're pop artist http://cdn-webimages.wimages.net/05166ed43f8bab701227fc8b9a461b0f80e0d7-wm.jpg?v=3\n",
      "sensual white girl relaxing at the beach , lying under a dark scarf blowing on the wind , looking at camera . https://ak3.picdn.net/shutterstock/videos/16547383/thumb/12.jpg\n",
      "child together a white girl in the park https://media.gettyimages.com/photos/african-american-child-together-a-white-girl-in-the-park-picture-id155361954?s=612x612\n",
      "a screaming white girl from last year 's performance . http://mediad.publicbroadcasting.net/p/northwestnews/files/styles/medium/public/201609/091416AK_HappyCanyon_1.jpg\n",
      "person dressed as the typical white girl ♥ https://s-media-cache-ak0.pinimg.com/originals/03/10/ed/0310edcf8d88927fc50f06efdc8c4430.jpg\n",
      "we love blues artist with all the passion white girls could ever muster . https://tylerchambliss.files.wordpress.com/2014/05/blogtrail41.jpg\n",
      "a laughing white girl and a black boy holding an inflatable globe between them . http://l7.alamy.com/zooms/f719d01f9a3b4876a390d33e131ea3aa/a-laughing-white-girl-and-a-black-boy-holding-an-inflatable-globe-a32pdx.jpg\n",
      "being physically active at age had no impact whatsoever on whether black teenagers were obese at 14 , whereas white girls were % less likely to be obese http://i.dailymail.co.uk/i/pix/2012/06/06/article-0-1379BF56000005DC-795_468x639.jpg\n",
      "child together a white girl in the park https://media.gettyimages.com/photos/african-american-child-together-a-white-girl-in-the-park-picture-id155385319?s=612x612\n",
      "a beautiful white girl in a white hat , with a bouquet of flowers https://ak6.picdn.net/shutterstock/videos/29426596/thumb/1.jpg?i10c=img.resize(height:160)\n",
      "white girls christening dress hanged on the wall , with beautiful big ribbon http://c8.alamy.com/comp/JPGA88/white-girls-christening-dress-hanged-on-the-wall-with-beautiful-big-JPGA88.jpg\n",
      "beautiful white girl smiles at the camera https://ak5.picdn.net/shutterstock/videos/23104855/thumb/1.jpg\n",
      "the fashion industry is obsessed with skinny white girls and this needs to change https://d3enniz247y0a9.cloudfront.net/article-wheel-images/news-views/fashion-news/2016/wk-36/wep-campaign/todays-programme-wep-campaign.jpg\n",
      "the modern white girl in her natural habitat . https://78.media.tumblr.com/87f7ea1f08ea836d01df52f43e4b54bc/tumblr_o5fx6sy6hy1v5suc0o1_500.jpg\n",
      "millennial white girl poses for a portrait in plaid on green screen . https://ak8.picdn.net/shutterstock/videos/30058918/thumb/1.jpg\n",
      "i hope to find a white girl who likes culture and wants a marriage . http://cdn-webimages.wimages.net/050c4d82c03b9720463153619a0e0b9222511d-wm.jpg?v=3\n",
      "is it weird that i 'm a white girl but i really love guys and the culture ? http://cdn-webimages.wimages.net/0518845c360b2e34865471bd6c6c3708d76dff-wm.jpg?v=3\n"
     ]
    }
   ],
   "source": [
    "for (x,y) in caption_data.values:\n",
    "    if 'white girl' in x and 'vector' not in x and 'vector' not in y:\n",
    "        print(x, y)"
   ]
  },
  {
   "cell_type": "code",
   "execution_count": null,
   "metadata": {},
   "outputs": [],
   "source": []
  }
 ],
 "metadata": {
  "kernelspec": {
   "display_name": "Python 3",
   "language": "python",
   "name": "python3"
  },
  "language_info": {
   "codemirror_mode": {
    "name": "ipython",
    "version": 3
   },
   "file_extension": ".py",
   "mimetype": "text/x-python",
   "name": "python",
   "nbconvert_exporter": "python",
   "pygments_lexer": "ipython3",
   "version": "3.6.5"
  }
 },
 "nbformat": 4,
 "nbformat_minor": 2
}
