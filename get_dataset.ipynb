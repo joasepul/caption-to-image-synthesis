{
 "cells": [
  {
   "cell_type": "code",
   "execution_count": 4,
   "metadata": {},
   "outputs": [],
   "source": [
    "import pandas as pd\n",
    "import requests\n",
    "from itertools import filterfalse\n"
   ]
  },
  {
   "cell_type": "code",
   "execution_count": 2,
   "metadata": {},
   "outputs": [],
   "source": [
    "caption_data = pd.read_csv('./Train_GCC-training.tsv', delimiter='\\t', encoding='utf-8')"
   ]
  },
  {
   "cell_type": "code",
   "execution_count": 23,
   "metadata": {},
   "outputs": [],
   "source": [
    "def filterbyresponse(elem):\n",
    "    try:\n",
    "        r = requests.head(elem[1])\n",
    "        return r.ok\n",
    "    except:\n",
    "        return False"
   ]
  },
  {
   "cell_type": "code",
   "execution_count": 24,
   "metadata": {},
   "outputs": [
    {
     "name": "stdout",
     "output_type": "stream",
     "text": [
      "363348\n"
     ]
    }
   ],
   "source": [
    "human_datapoints = []\n",
    "human_keywords = ['human', 'man', 'woman', 'boy', 'girl', 'child', ' son', 'daughter', 'father', 'mother', 'dad', 'mom']\n",
    "for (x,y) in caption_data.values:\n",
    "    for word in human_keywords:\n",
    "        if word in x and 'vector' not in x and 'vector' not in y:\n",
    "            human_datapoints.append((x, y))\n",
    "            break;\n",
    "        \n",
    "print(len(human_datapoints))\n",
    "\n",
    "\n"
   ]
  },
  {
   "cell_type": "code",
   "execution_count": null,
   "metadata": {},
   "outputs": [],
   "source": [
    "cleaned_human_datapoints = list(filterfalse(filterbyresponse, human_datapoints))"
   ]
  },
  {
   "cell_type": "code",
   "execution_count": 51,
   "metadata": {
    "scrolled": false
   },
   "outputs": [
    {
     "name": "stdout",
     "output_type": "stream",
     "text": [
      "118768\n"
     ]
    }
   ],
   "source": [
    "nature_datapoints = []\n",
    "nature_keywords = ['nature', 'animal', 'plant', 'landscape', 'jungle', 'forest', 'mountain']\n",
    "for (x,y) in caption_data.values:\n",
    "    for word in nature_keywords:\n",
    "        if word in x and 'vector' not in x and 'vector' not in y:\n",
    "            nature_datapoints.append((x, y))\n",
    "            break;\n",
    "\n",
    "print (len(nature_datapoints))"
   ]
  },
  {
   "cell_type": "code",
   "execution_count": null,
   "metadata": {},
   "outputs": [],
   "source": [
    "cleaned_nature_datapoints = list(filterfalse(filterbyresponse, nature_datapoints))"
   ]
  },
  {
   "cell_type": "code",
   "execution_count": null,
   "metadata": {},
   "outputs": [],
   "source": []
  }
 ],
 "metadata": {
  "kernelspec": {
   "display_name": "Python 3",
   "language": "python",
   "name": "python3"
  },
  "language_info": {
   "codemirror_mode": {
    "name": "ipython",
    "version": 3
   },
   "file_extension": ".py",
   "mimetype": "text/x-python",
   "name": "python",
   "nbconvert_exporter": "python",
   "pygments_lexer": "ipython3",
   "version": "3.7.3"
  }
 },
 "nbformat": 4,
 "nbformat_minor": 2
}
