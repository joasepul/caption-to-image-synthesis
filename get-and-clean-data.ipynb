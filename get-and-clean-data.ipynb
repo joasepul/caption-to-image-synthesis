{
 "cells": [
  {
   "cell_type": "code",
   "execution_count": 1,
   "metadata": {},
   "outputs": [],
   "source": [
    "import cv2\n",
    "import glob\n",
    "import numpy as np\n",
    "import math\n",
    "import os"
   ]
  },
  {
   "cell_type": "code",
   "execution_count": 2,
   "metadata": {},
   "outputs": [
    {
     "name": "stdout",
     "output_type": "stream",
     "text": [
      "loaded a total of 0 imgs\n"
     ]
    }
   ],
   "source": [
    "# this selects the first 1975 images, change the regex if you want more\n",
    "img_paths = glob.glob('/coco2017/train2017/*.jpg')\n",
    "training_imgs_num = len(img_paths)\n",
    "print(f'loaded a total of {training_imgs_num} imgs')"
   ]
  },
  {
   "cell_type": "code",
   "execution_count": 6,
   "metadata": {
    "scrolled": true
   },
   "outputs": [
    {
     "name": "stdout",
     "output_type": "stream",
     "text": [
      "Cleaning and saving 1975 imgs to ./cleaned-data\n"
     ]
    }
   ],
   "source": [
    "print(f'Cleaning and saving {training_imgs_num} imgs to /coco2017/cleaned-data')\n",
    "os.mkdir( '/coco2017/cleaned-data') if not os.path.exists('/coco2017/cleaned-data') else None\n",
    "\n",
    "for img_path in img_paths:\n",
    "    img = cv2.imread(img_path)\n",
    "    y,x,_ = img.shape #(y, x) not (x, y)\n",
    "    \n",
    "    margin = abs(y-x)/2\n",
    "    if x > y:        \n",
    "        # Image is tall\n",
    "        img = img[:,int(math.floor(margin)):int(math.floor(x-margin))]\n",
    "    elif y > x:\n",
    "        # Image is wide\n",
    "        img = img[int(math.floor(margin)):int(math.floor(y-margin)),:]\n",
    "\n",
    "    if (img.shape[0] != img.shape[1]):\n",
    "        print('Dim mismatch')\n",
    "        \n",
    "    img = cv2.resize(img, (128,128))\n",
    "    cv2.imwrite(os.path.join('/coco2017/cleaned-data', img_path.split('/')[-1]), img)"
   ]
  },
  {
   "cell_type": "code",
   "execution_count": null,
   "metadata": {},
   "outputs": [],
   "source": [
    "# category_mapping = {}\n",
    "\n",
    "# numeric_mapping = { 'person' : 1, 'vehicle' : 2, 'outdoor' : 3, 'animal' : 4, 'accessory' : 5, 'sports' : 6, \\\n",
    "# 'kitchen' : 7, 'food' : 8, 'furniture' : 9, 'electronic' : 10, 'appliance' : 11, 'indoor' : 12 }\n",
    "\n",
    "# for dic in instances_df.categories:\n",
    "#     category_mapping[dic['id']] = numeric_mapping[dic['supercategory']]\n",
    "\n",
    "# def getSuperCat(cat):\n",
    "#     return category_mapping[cat]\n",
    "    "
   ]
  },
  {
   "cell_type": "code",
   "execution_count": 3,
   "metadata": {},
   "outputs": [],
   "source": [
    "def multihot_encode(data, num_classes=12, clip=False):\n",
    "    mhe, _ = np.histogram(data,bins=num_classes,range=(0,num_classes-1))\n",
    "    if clip:\n",
    "        return np.clip(mhe,0,1)\n",
    "    \n",
    "    mhe = [x/sum(mhe) if sum(mhe) > 0 else x/1.0 for x in mhe]\n",
    "    return mhe\n",
    "vec_multihot_encode = np.vectorize(multihot_encode)"
   ]
  },
  {
   "cell_type": "code",
   "execution_count": 34,
   "metadata": {},
   "outputs": [],
   "source": [
    "import pandas as pd\n",
    "\n",
    "def clean_caption(cap):\n",
    "    cap = cap.replace('.', ' ')\n",
    "    cap = cap + \".\"\n",
    "    return cap\n",
    "    \n",
    "\n",
    "annot_df = None\n",
    "with open('./annotations_trainval2017/annotations/captions_train2017.json') as annot_file:\n",
    "    captions_df = pd.read_json(annot_file, typ='series')\n",
    "    annot_df = pd.DataFrame(data=captions_df['annotations'])\n",
    "    annot_df = annot_df.astype({'image_id': 'int32'})\n",
    "    image_df = pd.DataFrame(data= captions_df['images'])\n",
    "    image_df = image_df.astype({'id': 'int32'}) # annot_df image_id matches image_df id\n",
    "    annot_df.sort_values(by=['image_id'], axis=0, inplace=True)\n",
    "    image_df.sort_values(by=['id'], axis=0, inplace=True)\n",
    "    annot_df['caption'] = annot_df['caption'].apply(clean_caption)\n",
    "    annot_df = annot_df.groupby('image_id')['image_id', 'caption'].agg('|'.join)\n",
    "    \n",
    "    annot_df.insert(len(annot_df.columns), 'file_name', image_df['file_name'].values)\n",
    "    \n",
    "\n",
    "    with open('./annotations_trainval2017/annotations/instances_train2017.json') as instance_file:\n",
    "        instances_df = pd.read_json(instance_file, typ='series')\n",
    "        \n",
    "        category_mapping = {}\n",
    "\n",
    "        numeric_mapping = { 'person' : 1, 'vehicle' : 2, 'outdoor' : 3, 'animal' : 4, 'accessory' : 5, 'sports' : 6, \\\n",
    "        'kitchen' : 7, 'food' : 8, 'furniture' : 9, 'electronic' : 10, 'appliance' : 11, 'indoor' : 12 }\n",
    "\n",
    "        for dic in instances_df.categories:\n",
    "            category_mapping[dic['id']] = numeric_mapping[dic['supercategory']]\n",
    "        \n",
    "        image_cats = {i : [] for i in list(annot_df.index)}\n",
    "        image_supercats = {i : [] for i in list(annot_df.index)}\n",
    "        \n",
    "        for row in instances_df.annotations:\n",
    "            image_cats[row['image_id']].append(row['category_id'])\n",
    "            image_supercats[row['image_id']].append(category_mapping[row['category_id']])\n",
    "        \n",
    "        annot_df.insert(1, 'categories', image_cats.values())\n",
    "        annot_df.insert(2, 'super_categories', list(map(multihot_encode, list(image_supercats.values()))))"
   ]
  },
  {
   "cell_type": "code",
   "execution_count": 35,
   "metadata": {},
   "outputs": [],
   "source": [
    "annot_df.to_csv('/coco2017/coco-captions-with-categories.csv')"
   ]
  },
  {
   "cell_type": "code",
   "execution_count": null,
   "metadata": {},
   "outputs": [],
   "source": []
  },
  {
   "cell_type": "code",
   "execution_count": null,
   "metadata": {},
   "outputs": [],
   "source": []
  }
 ],
 "metadata": {
  "kernelspec": {
   "display_name": "Python 3",
   "language": "python",
   "name": "python3"
  },
  "language_info": {
   "codemirror_mode": {
    "name": "ipython",
    "version": 3
   },
   "file_extension": ".py",
   "mimetype": "text/x-python",
   "name": "python",
   "nbconvert_exporter": "python",
   "pygments_lexer": "ipython3",
   "version": "3.7.3"
  }
 },
 "nbformat": 4,
 "nbformat_minor": 2
}
