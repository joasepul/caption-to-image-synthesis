{
 "cells": [
  {
   "cell_type": "code",
   "execution_count": null,
   "metadata": {},
   "outputs": [],
   "source": [
    "import cv2\n",
    "import glob\n",
    "import numpy as np\n",
    "import math\n",
    "import os"
   ]
  },
  {
   "cell_type": "code",
   "execution_count": null,
   "metadata": {},
   "outputs": [],
   "source": [
    "#18gig zip file! may take a while\n",
    "!wget --no-check-certificate \\\n",
    "    http://images.cocodataset.org/zips/train2017.zip \\\n",
    "    -O ./train2017.zip\n"
   ]
  },
  {
   "cell_type": "code",
   "execution_count": null,
   "metadata": {},
   "outputs": [],
   "source": [
    "\n",
    "import zipfile\n",
    "\n",
    "local_zip = './train2017.zip'\n",
    "zip_ref = zipfile.ZipFile(local_zip, 'r')\n",
    "zip_ref.extractall('/train2017')\n",
    "zip_ref.close()"
   ]
  },
  {
   "cell_type": "code",
   "execution_count": null,
   "metadata": {},
   "outputs": [],
   "source": [
    "# this selects the first 1975 images, change the regex if you want more\n",
    "img_paths = glob.glob('./train2017/00000000[0-9]*.jpg')\n",
    "training_imgs_num = len(img_paths)\n",
    "print(f'loaded a total of {training_imgs_num} imgs')"
   ]
  },
  {
   "cell_type": "code",
   "execution_count": null,
   "metadata": {
    "scrolled": true
   },
   "outputs": [],
   "source": [
    "print(f'Cleaning and saving {training_imgs_num} imgs to ./cleaned-data')\n",
    "os.mkdir( './cleaned-data/') if not os.path.exists('./cleaned-data/') else None\n",
    "\n",
    "for img_path in img_paths:\n",
    "    img = cv2.imread(img_path)\n",
    "    y,x,_ = img.shape #(y, x) not (x, y)\n",
    "    \n",
    "    margin = abs(y-x)/2\n",
    "    if x > y:        \n",
    "        # Image is tall\n",
    "        img = img[:,int(math.floor(margin)):int(math.floor(x-margin))]\n",
    "    elif y > x:\n",
    "        # Image is wide\n",
    "        img = img[int(math.floor(margin)):int(math.floor(y-margin)),:]\n",
    "\n",
    "    if (img.shape[0] != img.shape[1]):\n",
    "        print('Dim mismatch')\n",
    "        \n",
    "    img = cv2.resize(img, (128,128))\n",
    "    cv2.imwrite(os.path.join(os.curdir, 'cleaned-data', img_path.split('\\\\')[-1]), img)"
   ]
  },
  {
   "cell_type": "code",
   "execution_count": 148,
   "metadata": {},
   "outputs": [],
   "source": [
    "import json\n",
    "\n",
    "with open('./annotations_trainval2017/annotations/captions_train2017.json') as annot_file:\n",
    "    captions_df = pd.read_json(annot_file, typ='series')\n",
    "    annot_df = pd.DataFrame(data=captions_df['annotations'])\n",
    "    annot_df = annot_df.astype({'image_id': 'int32'})\n",
    "    annot_df.sort_values(by=['image_id'], axis=0, inplace=True)\n",
    "    annot_df = annot_df.groupby('image_id')['image_id', 'caption'].agg('|'.join)\n",
    "    \n",
    "\n",
    "    with open('./annotations_trainval2017/annotations/instances_train2017.json') as instance_file:\n",
    "        instances_df = pd.read_json(instance_file, typ='series')\n",
    "#         instances_df.annotations\n",
    "        "
   ]
  },
  {
   "cell_type": "code",
   "execution_count": 174,
   "metadata": {},
   "outputs": [],
   "source": [
    "summed = annot_df.groupby('image_id')['image_id', 'caption'].agg('|'.join)"
   ]
  },
  {
   "cell_type": "code",
   "execution_count": 182,
   "metadata": {},
   "outputs": [],
   "source": [
    "summed.to_csv('./all-captions.csv', index=True, header=False)"
   ]
  },
  {
   "cell_type": "code",
   "execution_count": 120,
   "metadata": {},
   "outputs": [
    {
     "data": {
      "text/plain": [
       "[58, 44, 44, 47, 1, 44, 50, 1, 44, 67, 50]"
      ]
     },
     "execution_count": 120,
     "metadata": {},
     "output_type": "execute_result"
    }
   ],
   "source": [
    "labels = [x['category_id'] for x in df.annotations if x['image_id'] == 558840]"
   ]
  }
 ],
 "metadata": {
  "kernelspec": {
   "display_name": "Python 3",
   "language": "python",
   "name": "python3"
  },
  "language_info": {
   "codemirror_mode": {
    "name": "ipython",
    "version": 3
   },
   "file_extension": ".py",
   "mimetype": "text/x-python",
   "name": "python",
   "nbconvert_exporter": "python",
   "pygments_lexer": "ipython3",
   "version": "3.7.3"
  }
 },
 "nbformat": 4,
 "nbformat_minor": 2
}
